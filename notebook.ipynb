{
 "cells": [
  {
   "cell_type": "code",
   "execution_count": 1,
   "metadata": {},
   "outputs": [],
   "source": [
    "import json\n",
    "import pandas as pd"
   ]
  },
  {
   "cell_type": "code",
   "execution_count": 2,
   "metadata": {},
   "outputs": [],
   "source": [
    "with open('white-ev_map-data.txt', 'r') as f:\n",
    "  data = f.read()"
   ]
  },
  {
   "cell_type": "code",
   "execution_count": 3,
   "metadata": {},
   "outputs": [
    {
     "name": "stdout",
     "output_type": "stream",
     "text": [
      "<class 'str'> 2303967\n"
     ]
    }
   ],
   "source": [
    "print(type(data), len(data))\n"
   ]
  },
  {
   "cell_type": "code",
   "execution_count": 4,
   "metadata": {},
   "outputs": [
    {
     "data": {
      "text/plain": [
       "'\"{\\\\\"data\\\\\":{\\\\\"visJSON\\\\\":{\\\\\"id\\\\\":\\\\\"d'"
      ]
     },
     "execution_count": 4,
     "metadata": {},
     "output_type": "execute_result"
    }
   ],
   "source": [
    "data[0:35]"
   ]
  },
  {
   "cell_type": "code",
   "execution_count": 5,
   "metadata": {},
   "outputs": [],
   "source": [
    "data = json.loads(json.loads(data))"
   ]
  },
  {
   "cell_type": "code",
   "execution_count": 6,
   "metadata": {},
   "outputs": [
    {
     "data": {
      "text/plain": [
       "dict_keys(['data', 'theme', 'translations'])"
      ]
     },
     "execution_count": 6,
     "metadata": {},
     "output_type": "execute_result"
    }
   ],
   "source": [
    "data.keys()"
   ]
  },
  {
   "cell_type": "code",
   "execution_count": 7,
   "metadata": {},
   "outputs": [
    {
     "data": {
      "text/plain": [
       "dict_keys(['visJSON', 'chartJSON', 'publishData', 'chartData', 'isPreview', 'chartLocale', 'locales', 'metricPrefix', 'themeId', 'fontsJSON', 'typographyJSON', 'polyfillUri'])"
      ]
     },
     "execution_count": 7,
     "metadata": {},
     "output_type": "execute_result"
    }
   ],
   "source": [
    "data['data'].keys()"
   ]
  },
  {
   "cell_type": "code",
   "execution_count": 8,
   "metadata": {},
   "outputs": [
    {
     "name": "stdout",
     "output_type": "stream",
     "text": [
      "visJSON has keys: ['id', 'namespace', 'title', 'height', 'ariaLabel', 'less', 'script', 'dependencies', 'axes', '__plugin', 'libraries', '__title', 'locale']\n",
      "chartJSON has keys: ['publicId', 'language', 'theme', 'id', 'type', 'title', 'lastEditStep', 'publishedAt', 'publicUrl', 'publicVersion', 'forkable', 'isFork', 'metadata', 'externalData', 'createdAt', 'lastModifiedAt', 'forkedFrom', 'organizationId', 'authorId', 'folderId']\n",
      "publishData has keys: ['chartAfterBodyHTML', 'chartAfterHeadHTML', 'externalDataUrl', 'basemap', 'blocks']\n",
      "chartData is <class 'str'>\n",
      "isPreview is <class 'bool'>\n",
      "chartLocale is <class 'str'>\n",
      "locales has keys: ['dayjs', 'numeral']\n",
      "metricPrefix has keys: []\n",
      "themeId is <class 'str'>\n",
      "fontsJSON has keys: ['Roboto']\n",
      "typographyJSON has keys: ['chart', 'links', 'notes', 'footer', 'headline', 'description', 'fontFamilies']\n",
      "polyfillUri is <class 'str'>\n"
     ]
    }
   ],
   "source": [
    "for key in list(data['data'].keys()):\n",
    "  try:\n",
    "    print(f\"{key} has keys: {list(data['data'][key].keys())}\")\n",
    "  except:\n",
    "    print(f\"{key} is {type(data['data'][key])}\")"
   ]
  },
  {
   "cell_type": "code",
   "execution_count": 9,
   "metadata": {},
   "outputs": [
    {
     "name": "stdout",
     "output_type": "stream",
     "text": [
      "None\n"
     ]
    }
   ],
   "source": [
    "print(data['data']['chartJSON']['externalData'])"
   ]
  },
  {
   "cell_type": "code",
   "execution_count": 10,
   "metadata": {},
   "outputs": [
    {
     "data": {
      "text/plain": [
       "'static.dwcdn.net/data'"
      ]
     },
     "execution_count": 10,
     "metadata": {},
     "output_type": "execute_result"
    }
   ],
   "source": [
    "data['data']['publishData']['externalDataUrl']"
   ]
  },
  {
   "cell_type": "code",
   "execution_count": 11,
   "metadata": {},
   "outputs": [],
   "source": [
    "chartData = data['data']['chartData']\n",
    "chartData = chartData.split(';')"
   ]
  },
  {
   "cell_type": "code",
   "execution_count": 12,
   "metadata": {},
   "outputs": [
    {
     "data": {
      "text/plain": [
       "['FIPS-Code',\n",
       " 'White evangelical Protestant',\n",
       " 'Name',\n",
       " 'Population',\n",
       " 'All white Christians',\n",
       " 'White mainline Protestant',\n",
       " 'Black Protestant',\n",
       " 'Hispanic Protestant',\n",
       " 'White Catholic',\n",
       " 'Hispanic Catholic',\n",
       " 'Mormon',\n",
       " 'Other Christian',\n",
       " 'Jewish',\n",
       " 'Muslim',\n",
       " 'Buddhist',\n",
       " 'Hindu',\n",
       " 'Unaffiliated\\n01001',\n",
       " '39',\n",
       " 'Autauga County, AL',\n",
       " '56000',\n",
       " '59',\n",
       " '16',\n",
       " '14',\n",
       " '2',\n",
       " '4',\n",
       " '0',\n",
       " '0',\n",
       " '7',\n",
       " '0',\n",
       " '0',\n",
       " '0',\n",
       " '0',\n",
       " '18\\n01003',\n",
       " '37',\n",
       " 'Baldwin County, AL',\n",
       " '223000',\n",
       " '70',\n",
       " '20',\n",
       " '5',\n",
       " '3',\n",
       " '12',\n",
       " '2',\n",
       " '1',\n",
       " '7',\n",
       " '0',\n",
       " '0',\n",
       " '0',\n",
       " '0',\n",
       " '15\\n01005',\n",
       " '30']"
      ]
     },
     "execution_count": 12,
     "metadata": {},
     "output_type": "execute_result"
    }
   ],
   "source": [
    "chartData[0:50]"
   ]
  },
  {
   "cell_type": "code",
   "execution_count": 13,
   "metadata": {},
   "outputs": [
    {
     "data": {
      "text/plain": [
       "['FIPS-Code',\n",
       " 'White evangelical Protestant',\n",
       " 'Name',\n",
       " 'Population',\n",
       " 'All white Christians',\n",
       " 'White mainline Protestant',\n",
       " 'Black Protestant',\n",
       " 'Hispanic Protestant',\n",
       " 'White Catholic',\n",
       " 'Hispanic Catholic',\n",
       " 'Mormon',\n",
       " 'Other Christian',\n",
       " 'Jewish',\n",
       " 'Muslim',\n",
       " 'Buddhist',\n",
       " 'Hindu',\n",
       " 'Unaffiliated',\n",
       " '01001',\n",
       " '39',\n",
       " 'Autauga County, AL',\n",
       " '56000',\n",
       " '59',\n",
       " '16',\n",
       " '14',\n",
       " '2',\n",
       " '4',\n",
       " '0',\n",
       " '0',\n",
       " '7',\n",
       " '0',\n",
       " '0',\n",
       " '0',\n",
       " '0',\n",
       " '18',\n",
       " '01003',\n",
       " '37',\n",
       " 'Baldwin County, AL',\n",
       " '223000',\n",
       " '70',\n",
       " '20',\n",
       " '5',\n",
       " '3',\n",
       " '12',\n",
       " '2',\n",
       " '1',\n",
       " '7',\n",
       " '0',\n",
       " '0',\n",
       " '0',\n",
       " '0']"
      ]
     },
     "execution_count": 13,
     "metadata": {},
     "output_type": "execute_result"
    }
   ],
   "source": [
    "# Split the weird Unaffiliated column and spread the values into original list\n",
    "chartData = [val.split('\\n') for val in chartData]\n",
    "chartData = [item for sublist in chartData for item in sublist]\n",
    "chartData[0:50]"
   ]
  },
  {
   "cell_type": "code",
   "execution_count": 14,
   "metadata": {},
   "outputs": [
    {
     "data": {
      "text/plain": [
       "['FIPS-Code',\n",
       " 'White evangelical Protestant',\n",
       " 'Name',\n",
       " 'Population',\n",
       " 'All white Christians',\n",
       " 'White mainline Protestant',\n",
       " 'Black Protestant',\n",
       " 'Hispanic Protestant',\n",
       " 'White Catholic',\n",
       " 'Hispanic Catholic',\n",
       " 'Mormon',\n",
       " 'Other Christian',\n",
       " 'Jewish',\n",
       " 'Muslim',\n",
       " 'Buddhist',\n",
       " 'Hindu',\n",
       " 'Unaffiliated']"
      ]
     },
     "execution_count": 14,
     "metadata": {},
     "output_type": "execute_result"
    }
   ],
   "source": [
    "columns = chartData[0:17]\n",
    "columns"
   ]
  },
  {
   "cell_type": "code",
   "execution_count": 15,
   "metadata": {},
   "outputs": [
    {
     "data": {
      "text/plain": [
       "['01001',\n",
       " '39',\n",
       " 'Autauga County, AL',\n",
       " '56000',\n",
       " '59',\n",
       " '16',\n",
       " '14',\n",
       " '2',\n",
       " '4',\n",
       " '0',\n",
       " '0',\n",
       " '7',\n",
       " '0',\n",
       " '0',\n",
       " '0',\n",
       " '0',\n",
       " '18',\n",
       " '01003',\n",
       " '37',\n",
       " 'Baldwin County, AL']"
      ]
     },
     "execution_count": 15,
     "metadata": {},
     "output_type": "execute_result"
    }
   ],
   "source": [
    "chartData[17:37]"
   ]
  },
  {
   "cell_type": "code",
   "execution_count": 16,
   "metadata": {},
   "outputs": [],
   "source": [
    "records = []\n",
    "subset = chartData[17:]\n",
    "while len(subset) > 0:\n",
    "  records.append(subset[0:17])\n",
    "  subset = subset[17:]"
   ]
  },
  {
   "cell_type": "code",
   "execution_count": 17,
   "metadata": {},
   "outputs": [
    {
     "data": {
      "text/html": [
       "<div>\n",
       "<style scoped>\n",
       "    .dataframe tbody tr th:only-of-type {\n",
       "        vertical-align: middle;\n",
       "    }\n",
       "\n",
       "    .dataframe tbody tr th {\n",
       "        vertical-align: top;\n",
       "    }\n",
       "\n",
       "    .dataframe thead th {\n",
       "        text-align: right;\n",
       "    }\n",
       "</style>\n",
       "<table border=\"1\" class=\"dataframe\">\n",
       "  <thead>\n",
       "    <tr style=\"text-align: right;\">\n",
       "      <th></th>\n",
       "      <th>FIPS-Code</th>\n",
       "      <th>White evangelical Protestant</th>\n",
       "      <th>Name</th>\n",
       "      <th>Population</th>\n",
       "      <th>All white Christians</th>\n",
       "      <th>White mainline Protestant</th>\n",
       "      <th>Black Protestant</th>\n",
       "      <th>Hispanic Protestant</th>\n",
       "      <th>White Catholic</th>\n",
       "      <th>Hispanic Catholic</th>\n",
       "      <th>Mormon</th>\n",
       "      <th>Other Christian</th>\n",
       "      <th>Jewish</th>\n",
       "      <th>Muslim</th>\n",
       "      <th>Buddhist</th>\n",
       "      <th>Hindu</th>\n",
       "      <th>Unaffiliated</th>\n",
       "    </tr>\n",
       "  </thead>\n",
       "  <tbody>\n",
       "    <tr>\n",
       "      <th>0</th>\n",
       "      <td>01001</td>\n",
       "      <td>39</td>\n",
       "      <td>Autauga County, AL</td>\n",
       "      <td>56000</td>\n",
       "      <td>59</td>\n",
       "      <td>16</td>\n",
       "      <td>14</td>\n",
       "      <td>2</td>\n",
       "      <td>4</td>\n",
       "      <td>0</td>\n",
       "      <td>0</td>\n",
       "      <td>7</td>\n",
       "      <td>0</td>\n",
       "      <td>0</td>\n",
       "      <td>0</td>\n",
       "      <td>0</td>\n",
       "      <td>18</td>\n",
       "    </tr>\n",
       "    <tr>\n",
       "      <th>1</th>\n",
       "      <td>01003</td>\n",
       "      <td>37</td>\n",
       "      <td>Baldwin County, AL</td>\n",
       "      <td>223000</td>\n",
       "      <td>70</td>\n",
       "      <td>20</td>\n",
       "      <td>5</td>\n",
       "      <td>3</td>\n",
       "      <td>12</td>\n",
       "      <td>2</td>\n",
       "      <td>1</td>\n",
       "      <td>7</td>\n",
       "      <td>0</td>\n",
       "      <td>0</td>\n",
       "      <td>0</td>\n",
       "      <td>0</td>\n",
       "      <td>15</td>\n",
       "    </tr>\n",
       "    <tr>\n",
       "      <th>2</th>\n",
       "      <td>01005</td>\n",
       "      <td>30</td>\n",
       "      <td>Barbour County, AL</td>\n",
       "      <td>25000</td>\n",
       "      <td>45</td>\n",
       "      <td>10</td>\n",
       "      <td>32</td>\n",
       "      <td>3</td>\n",
       "      <td>4</td>\n",
       "      <td>1</td>\n",
       "      <td>1</td>\n",
       "      <td>5</td>\n",
       "      <td>0</td>\n",
       "      <td>0</td>\n",
       "      <td>0</td>\n",
       "      <td>0</td>\n",
       "      <td>16</td>\n",
       "    </tr>\n",
       "    <tr>\n",
       "      <th>3</th>\n",
       "      <td>01007</td>\n",
       "      <td>53</td>\n",
       "      <td>Bibb County, AL</td>\n",
       "      <td>22000</td>\n",
       "      <td>70</td>\n",
       "      <td>14</td>\n",
       "      <td>9</td>\n",
       "      <td>0</td>\n",
       "      <td>3</td>\n",
       "      <td>0</td>\n",
       "      <td>0</td>\n",
       "      <td>4</td>\n",
       "      <td>0</td>\n",
       "      <td>0</td>\n",
       "      <td>0</td>\n",
       "      <td>0</td>\n",
       "      <td>16</td>\n",
       "    </tr>\n",
       "    <tr>\n",
       "      <th>4</th>\n",
       "      <td>01009</td>\n",
       "      <td>58</td>\n",
       "      <td>Blount County, AL</td>\n",
       "      <td>58000</td>\n",
       "      <td>75</td>\n",
       "      <td>15</td>\n",
       "      <td>2</td>\n",
       "      <td>1</td>\n",
       "      <td>2</td>\n",
       "      <td>2</td>\n",
       "      <td>0</td>\n",
       "      <td>5</td>\n",
       "      <td>0</td>\n",
       "      <td>0</td>\n",
       "      <td>0</td>\n",
       "      <td>0</td>\n",
       "      <td>14</td>\n",
       "    </tr>\n",
       "  </tbody>\n",
       "</table>\n",
       "</div>"
      ],
      "text/plain": [
       "  FIPS-Code White evangelical Protestant                Name Population  \\\n",
       "0     01001                           39  Autauga County, AL      56000   \n",
       "1     01003                           37  Baldwin County, AL     223000   \n",
       "2     01005                           30  Barbour County, AL      25000   \n",
       "3     01007                           53     Bibb County, AL      22000   \n",
       "4     01009                           58   Blount County, AL      58000   \n",
       "\n",
       "  All white Christians White mainline Protestant Black Protestant  \\\n",
       "0                   59                        16               14   \n",
       "1                   70                        20                5   \n",
       "2                   45                        10               32   \n",
       "3                   70                        14                9   \n",
       "4                   75                        15                2   \n",
       "\n",
       "  Hispanic Protestant White Catholic Hispanic Catholic Mormon Other Christian  \\\n",
       "0                   2              4                 0      0               7   \n",
       "1                   3             12                 2      1               7   \n",
       "2                   3              4                 1      1               5   \n",
       "3                   0              3                 0      0               4   \n",
       "4                   1              2                 2      0               5   \n",
       "\n",
       "  Jewish Muslim Buddhist Hindu Unaffiliated  \n",
       "0      0      0        0     0           18  \n",
       "1      0      0        0     0           15  \n",
       "2      0      0        0     0           16  \n",
       "3      0      0        0     0           16  \n",
       "4      0      0        0     0           14  "
      ]
     },
     "execution_count": 17,
     "metadata": {},
     "output_type": "execute_result"
    }
   ],
   "source": [
    "df = pd.DataFrame(records, columns=columns)\n",
    "df.head()"
   ]
  },
  {
   "cell_type": "code",
   "execution_count": 18,
   "metadata": {},
   "outputs": [
    {
     "data": {
      "text/html": [
       "<div>\n",
       "<style scoped>\n",
       "    .dataframe tbody tr th:only-of-type {\n",
       "        vertical-align: middle;\n",
       "    }\n",
       "\n",
       "    .dataframe tbody tr th {\n",
       "        vertical-align: top;\n",
       "    }\n",
       "\n",
       "    .dataframe thead th {\n",
       "        text-align: right;\n",
       "    }\n",
       "</style>\n",
       "<table border=\"1\" class=\"dataframe\">\n",
       "  <thead>\n",
       "    <tr style=\"text-align: right;\">\n",
       "      <th></th>\n",
       "      <th>FIPS-Code</th>\n",
       "      <th>Name</th>\n",
       "      <th>Population</th>\n",
       "      <th>All white Christians</th>\n",
       "      <th>White evangelical Protestant</th>\n",
       "      <th>White mainline Protestant</th>\n",
       "      <th>Black Protestant</th>\n",
       "      <th>Hispanic Protestant</th>\n",
       "      <th>White Catholic</th>\n",
       "      <th>Hispanic Catholic</th>\n",
       "      <th>Mormon</th>\n",
       "      <th>Other Christian</th>\n",
       "      <th>Jewish</th>\n",
       "      <th>Muslim</th>\n",
       "      <th>Buddhist</th>\n",
       "      <th>Hindu</th>\n",
       "      <th>Unaffiliated</th>\n",
       "    </tr>\n",
       "  </thead>\n",
       "  <tbody>\n",
       "    <tr>\n",
       "      <th>0</th>\n",
       "      <td>01001</td>\n",
       "      <td>Autauga County, AL</td>\n",
       "      <td>56000</td>\n",
       "      <td>59</td>\n",
       "      <td>39</td>\n",
       "      <td>16</td>\n",
       "      <td>14</td>\n",
       "      <td>2</td>\n",
       "      <td>4</td>\n",
       "      <td>0</td>\n",
       "      <td>0</td>\n",
       "      <td>7</td>\n",
       "      <td>0</td>\n",
       "      <td>0</td>\n",
       "      <td>0</td>\n",
       "      <td>0</td>\n",
       "      <td>18</td>\n",
       "    </tr>\n",
       "    <tr>\n",
       "      <th>1</th>\n",
       "      <td>01003</td>\n",
       "      <td>Baldwin County, AL</td>\n",
       "      <td>223000</td>\n",
       "      <td>70</td>\n",
       "      <td>37</td>\n",
       "      <td>20</td>\n",
       "      <td>5</td>\n",
       "      <td>3</td>\n",
       "      <td>12</td>\n",
       "      <td>2</td>\n",
       "      <td>1</td>\n",
       "      <td>7</td>\n",
       "      <td>0</td>\n",
       "      <td>0</td>\n",
       "      <td>0</td>\n",
       "      <td>0</td>\n",
       "      <td>15</td>\n",
       "    </tr>\n",
       "    <tr>\n",
       "      <th>2</th>\n",
       "      <td>01005</td>\n",
       "      <td>Barbour County, AL</td>\n",
       "      <td>25000</td>\n",
       "      <td>45</td>\n",
       "      <td>30</td>\n",
       "      <td>10</td>\n",
       "      <td>32</td>\n",
       "      <td>3</td>\n",
       "      <td>4</td>\n",
       "      <td>1</td>\n",
       "      <td>1</td>\n",
       "      <td>5</td>\n",
       "      <td>0</td>\n",
       "      <td>0</td>\n",
       "      <td>0</td>\n",
       "      <td>0</td>\n",
       "      <td>16</td>\n",
       "    </tr>\n",
       "    <tr>\n",
       "      <th>3</th>\n",
       "      <td>01007</td>\n",
       "      <td>Bibb County, AL</td>\n",
       "      <td>22000</td>\n",
       "      <td>70</td>\n",
       "      <td>53</td>\n",
       "      <td>14</td>\n",
       "      <td>9</td>\n",
       "      <td>0</td>\n",
       "      <td>3</td>\n",
       "      <td>0</td>\n",
       "      <td>0</td>\n",
       "      <td>4</td>\n",
       "      <td>0</td>\n",
       "      <td>0</td>\n",
       "      <td>0</td>\n",
       "      <td>0</td>\n",
       "      <td>16</td>\n",
       "    </tr>\n",
       "    <tr>\n",
       "      <th>4</th>\n",
       "      <td>01009</td>\n",
       "      <td>Blount County, AL</td>\n",
       "      <td>58000</td>\n",
       "      <td>75</td>\n",
       "      <td>58</td>\n",
       "      <td>15</td>\n",
       "      <td>2</td>\n",
       "      <td>1</td>\n",
       "      <td>2</td>\n",
       "      <td>2</td>\n",
       "      <td>0</td>\n",
       "      <td>5</td>\n",
       "      <td>0</td>\n",
       "      <td>0</td>\n",
       "      <td>0</td>\n",
       "      <td>0</td>\n",
       "      <td>14</td>\n",
       "    </tr>\n",
       "  </tbody>\n",
       "</table>\n",
       "</div>"
      ],
      "text/plain": [
       "  FIPS-Code                Name Population All white Christians  \\\n",
       "0     01001  Autauga County, AL      56000                   59   \n",
       "1     01003  Baldwin County, AL     223000                   70   \n",
       "2     01005  Barbour County, AL      25000                   45   \n",
       "3     01007     Bibb County, AL      22000                   70   \n",
       "4     01009   Blount County, AL      58000                   75   \n",
       "\n",
       "  White evangelical Protestant White mainline Protestant Black Protestant  \\\n",
       "0                           39                        16               14   \n",
       "1                           37                        20                5   \n",
       "2                           30                        10               32   \n",
       "3                           53                        14                9   \n",
       "4                           58                        15                2   \n",
       "\n",
       "  Hispanic Protestant White Catholic Hispanic Catholic Mormon Other Christian  \\\n",
       "0                   2              4                 0      0               7   \n",
       "1                   3             12                 2      1               7   \n",
       "2                   3              4                 1      1               5   \n",
       "3                   0              3                 0      0               4   \n",
       "4                   1              2                 2      0               5   \n",
       "\n",
       "  Jewish Muslim Buddhist Hindu Unaffiliated  \n",
       "0      0      0        0     0           18  \n",
       "1      0      0        0     0           15  \n",
       "2      0      0        0     0           16  \n",
       "3      0      0        0     0           16  \n",
       "4      0      0        0     0           14  "
      ]
     },
     "execution_count": 18,
     "metadata": {},
     "output_type": "execute_result"
    }
   ],
   "source": [
    "# move the 2nd column to the 5th column\n",
    "cols = list(df.columns)\n",
    "cols = cols[:1] + cols[2:5] + cols[1:2] + cols[5:]\n",
    "df = df[cols]\n",
    "df.head()"
   ]
  },
  {
   "cell_type": "code",
   "execution_count": 19,
   "metadata": {},
   "outputs": [],
   "source": [
    "# convert all the columns to numeric\n",
    "for col in df.columns[2:]:\n",
    "  df[col] = pd.to_numeric(df[col])"
   ]
  },
  {
   "cell_type": "code",
   "execution_count": 20,
   "metadata": {},
   "outputs": [
    {
     "data": {
      "text/html": [
       "<div>\n",
       "<style scoped>\n",
       "    .dataframe tbody tr th:only-of-type {\n",
       "        vertical-align: middle;\n",
       "    }\n",
       "\n",
       "    .dataframe tbody tr th {\n",
       "        vertical-align: top;\n",
       "    }\n",
       "\n",
       "    .dataframe thead th {\n",
       "        text-align: right;\n",
       "    }\n",
       "</style>\n",
       "<table border=\"1\" class=\"dataframe\">\n",
       "  <thead>\n",
       "    <tr style=\"text-align: right;\">\n",
       "      <th></th>\n",
       "      <th>FIPS-Code</th>\n",
       "      <th>Name</th>\n",
       "      <th>Population</th>\n",
       "      <th>All white Christians</th>\n",
       "      <th>White evangelical Protestant</th>\n",
       "      <th>White mainline Protestant</th>\n",
       "      <th>Black Protestant</th>\n",
       "      <th>Hispanic Protestant</th>\n",
       "      <th>White Catholic</th>\n",
       "      <th>Hispanic Catholic</th>\n",
       "      <th>Mormon</th>\n",
       "      <th>Other Christian</th>\n",
       "      <th>Jewish</th>\n",
       "      <th>Muslim</th>\n",
       "      <th>Buddhist</th>\n",
       "      <th>Hindu</th>\n",
       "      <th>Unaffiliated</th>\n",
       "      <th>Total</th>\n",
       "    </tr>\n",
       "  </thead>\n",
       "  <tbody>\n",
       "    <tr>\n",
       "      <th>0</th>\n",
       "      <td>01001</td>\n",
       "      <td>Autauga County, AL</td>\n",
       "      <td>56000</td>\n",
       "      <td>59</td>\n",
       "      <td>39</td>\n",
       "      <td>16</td>\n",
       "      <td>14</td>\n",
       "      <td>2</td>\n",
       "      <td>4</td>\n",
       "      <td>0</td>\n",
       "      <td>0</td>\n",
       "      <td>7</td>\n",
       "      <td>0</td>\n",
       "      <td>0</td>\n",
       "      <td>0</td>\n",
       "      <td>0</td>\n",
       "      <td>18</td>\n",
       "      <td>100</td>\n",
       "    </tr>\n",
       "    <tr>\n",
       "      <th>1</th>\n",
       "      <td>01003</td>\n",
       "      <td>Baldwin County, AL</td>\n",
       "      <td>223000</td>\n",
       "      <td>70</td>\n",
       "      <td>37</td>\n",
       "      <td>20</td>\n",
       "      <td>5</td>\n",
       "      <td>3</td>\n",
       "      <td>12</td>\n",
       "      <td>2</td>\n",
       "      <td>1</td>\n",
       "      <td>7</td>\n",
       "      <td>0</td>\n",
       "      <td>0</td>\n",
       "      <td>0</td>\n",
       "      <td>0</td>\n",
       "      <td>15</td>\n",
       "      <td>102</td>\n",
       "    </tr>\n",
       "    <tr>\n",
       "      <th>2</th>\n",
       "      <td>01005</td>\n",
       "      <td>Barbour County, AL</td>\n",
       "      <td>25000</td>\n",
       "      <td>45</td>\n",
       "      <td>30</td>\n",
       "      <td>10</td>\n",
       "      <td>32</td>\n",
       "      <td>3</td>\n",
       "      <td>4</td>\n",
       "      <td>1</td>\n",
       "      <td>1</td>\n",
       "      <td>5</td>\n",
       "      <td>0</td>\n",
       "      <td>0</td>\n",
       "      <td>0</td>\n",
       "      <td>0</td>\n",
       "      <td>16</td>\n",
       "      <td>102</td>\n",
       "    </tr>\n",
       "    <tr>\n",
       "      <th>3</th>\n",
       "      <td>01007</td>\n",
       "      <td>Bibb County, AL</td>\n",
       "      <td>22000</td>\n",
       "      <td>70</td>\n",
       "      <td>53</td>\n",
       "      <td>14</td>\n",
       "      <td>9</td>\n",
       "      <td>0</td>\n",
       "      <td>3</td>\n",
       "      <td>0</td>\n",
       "      <td>0</td>\n",
       "      <td>4</td>\n",
       "      <td>0</td>\n",
       "      <td>0</td>\n",
       "      <td>0</td>\n",
       "      <td>0</td>\n",
       "      <td>16</td>\n",
       "      <td>99</td>\n",
       "    </tr>\n",
       "    <tr>\n",
       "      <th>4</th>\n",
       "      <td>01009</td>\n",
       "      <td>Blount County, AL</td>\n",
       "      <td>58000</td>\n",
       "      <td>75</td>\n",
       "      <td>58</td>\n",
       "      <td>15</td>\n",
       "      <td>2</td>\n",
       "      <td>1</td>\n",
       "      <td>2</td>\n",
       "      <td>2</td>\n",
       "      <td>0</td>\n",
       "      <td>5</td>\n",
       "      <td>0</td>\n",
       "      <td>0</td>\n",
       "      <td>0</td>\n",
       "      <td>0</td>\n",
       "      <td>14</td>\n",
       "      <td>99</td>\n",
       "    </tr>\n",
       "  </tbody>\n",
       "</table>\n",
       "</div>"
      ],
      "text/plain": [
       "  FIPS-Code                Name  Population  All white Christians  \\\n",
       "0     01001  Autauga County, AL       56000                    59   \n",
       "1     01003  Baldwin County, AL      223000                    70   \n",
       "2     01005  Barbour County, AL       25000                    45   \n",
       "3     01007     Bibb County, AL       22000                    70   \n",
       "4     01009   Blount County, AL       58000                    75   \n",
       "\n",
       "   White evangelical Protestant  White mainline Protestant  Black Protestant  \\\n",
       "0                            39                         16                14   \n",
       "1                            37                         20                 5   \n",
       "2                            30                         10                32   \n",
       "3                            53                         14                 9   \n",
       "4                            58                         15                 2   \n",
       "\n",
       "   Hispanic Protestant  White Catholic  Hispanic Catholic  Mormon  \\\n",
       "0                    2               4                  0       0   \n",
       "1                    3              12                  2       1   \n",
       "2                    3               4                  1       1   \n",
       "3                    0               3                  0       0   \n",
       "4                    1               2                  2       0   \n",
       "\n",
       "   Other Christian  Jewish  Muslim  Buddhist  Hindu  Unaffiliated  Total  \n",
       "0                7       0       0         0      0            18    100  \n",
       "1                7       0       0         0      0            15    102  \n",
       "2                5       0       0         0      0            16    102  \n",
       "3                4       0       0         0      0            16     99  \n",
       "4                5       0       0         0      0            14     99  "
      ]
     },
     "execution_count": 20,
     "metadata": {},
     "output_type": "execute_result"
    }
   ],
   "source": [
    "df.loc[:, 'Total'] = df.iloc[:, -13:].sum(axis=1)\n",
    "df.head()"
   ]
  },
  {
   "cell_type": "code",
   "execution_count": 21,
   "metadata": {},
   "outputs": [],
   "source": [
    "df.to_csv('output.csv', index=False)"
   ]
  }
 ],
 "metadata": {
  "kernelspec": {
   "display_name": "parse-data-09112023-TJKES0xQ",
   "language": "python",
   "name": "python3"
  },
  "language_info": {
   "codemirror_mode": {
    "name": "ipython",
    "version": 3
   },
   "file_extension": ".py",
   "mimetype": "text/x-python",
   "name": "python",
   "nbconvert_exporter": "python",
   "pygments_lexer": "ipython3",
   "version": "3.9.13"
  },
  "orig_nbformat": 4
 },
 "nbformat": 4,
 "nbformat_minor": 2
}
